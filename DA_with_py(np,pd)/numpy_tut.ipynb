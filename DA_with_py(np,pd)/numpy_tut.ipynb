{
 "cells": [
  {
   "cell_type": "code",
   "execution_count": 2,
   "metadata": {},
   "outputs": [],
   "source": [
    "import numpy as np"
   ]
  },
  {
   "cell_type": "code",
   "execution_count": 3,
   "metadata": {},
   "outputs": [
    {
     "name": "stdout",
     "output_type": "stream",
     "text": [
      "[1 2 3 4 5]\n",
      "<class 'numpy.ndarray'>\n",
      "(5,)\n"
     ]
    }
   ],
   "source": [
    "## Creating Numpy Array\n",
    "\n",
    "#create a 1D array\n",
    "\n",
    "arr1 = np.array([1,2,3,4,5]) \n",
    "print(arr1)\n",
    "print(type(arr1))\n",
    "print(arr1.shape)"
   ]
  },
  {
   "cell_type": "code",
   "execution_count": 4,
   "metadata": {},
   "outputs": [
    {
     "name": "stdout",
     "output_type": "stream",
     "text": [
      "[1 2 3 4 5]\n"
     ]
    }
   ],
   "source": [
    "arr2 = arr1\n",
    "\n",
    "print(arr2)\n"
   ]
  },
  {
   "cell_type": "code",
   "execution_count": 5,
   "metadata": {},
   "outputs": [
    {
     "data": {
      "text/plain": [
       "array([[1, 2, 3, 4, 5]])"
      ]
     },
     "execution_count": 5,
     "metadata": {},
     "output_type": "execute_result"
    }
   ],
   "source": [
    "arr2.reshape(1,5) #1 row and 5 columns"
   ]
  },
  {
   "cell_type": "code",
   "execution_count": 6,
   "metadata": {},
   "outputs": [
    {
     "data": {
      "text/plain": [
       "array([[1],\n",
       "       [2],\n",
       "       [3],\n",
       "       [4],\n",
       "       [5]])"
      ]
     },
     "execution_count": 6,
     "metadata": {},
     "output_type": "execute_result"
    }
   ],
   "source": [
    "arr2.reshape(5,1) #5 rows and 1 column"
   ]
  },
  {
   "cell_type": "code",
   "execution_count": 7,
   "metadata": {},
   "outputs": [
    {
     "name": "stdout",
     "output_type": "stream",
     "text": [
      "[[1 2 3]\n",
      " [4 5 6]]\n",
      "(2, 3)\n"
     ]
    }
   ],
   "source": [
    "#create a 2D array\n",
    "arr2 = np.array([[1,2,3],[4,5,6]])\n",
    "print(arr2)\n",
    "print(arr2.shape)"
   ]
  },
  {
   "cell_type": "code",
   "execution_count": 8,
   "metadata": {},
   "outputs": [
    {
     "data": {
      "text/plain": [
       "array([ 1,  2,  3,  4,  5,  6,  7,  8,  9, 10])"
      ]
     },
     "execution_count": 8,
     "metadata": {},
     "output_type": "execute_result"
    }
   ],
   "source": [
    "# create an array with a range of values\n",
    "np.arange(1,11)"
   ]
  },
  {
   "cell_type": "code",
   "execution_count": 9,
   "metadata": {},
   "outputs": [
    {
     "data": {
      "text/plain": [
       "array([[ 0,  2,  4],\n",
       "       [ 6,  8, 10]])"
      ]
     },
     "execution_count": 9,
     "metadata": {},
     "output_type": "execute_result"
    }
   ],
   "source": [
    "# create an array with a range of values and reshape it\n",
    "np.arange(0,11,2).reshape(2,3)"
   ]
  },
  {
   "cell_type": "code",
   "execution_count": 10,
   "metadata": {},
   "outputs": [
    {
     "data": {
      "text/plain": [
       "array([1., 1., 1., 1., 1.])"
      ]
     },
     "execution_count": 10,
     "metadata": {},
     "output_type": "execute_result"
    }
   ],
   "source": [
    "# create an array of ones\n",
    "np.ones(5)"
   ]
  },
  {
   "cell_type": "code",
   "execution_count": 11,
   "metadata": {},
   "outputs": [
    {
     "data": {
      "text/plain": [
       "array([[1., 1., 1., 1., 1.],\n",
       "       [1., 1., 1., 1., 1.],\n",
       "       [1., 1., 1., 1., 1.],\n",
       "       [1., 1., 1., 1., 1.],\n",
       "       [1., 1., 1., 1., 1.]])"
      ]
     },
     "execution_count": 11,
     "metadata": {},
     "output_type": "execute_result"
    }
   ],
   "source": [
    "# create an array of ones with a specified shape\n",
    "np.ones((5,5))"
   ]
  },
  {
   "cell_type": "code",
   "execution_count": 12,
   "metadata": {},
   "outputs": [
    {
     "data": {
      "text/plain": [
       "array([[1., 0., 0., 0., 0.],\n",
       "       [0., 1., 0., 0., 0.],\n",
       "       [0., 0., 1., 0., 0.],\n",
       "       [0., 0., 0., 1., 0.],\n",
       "       [0., 0., 0., 0., 1.]])"
      ]
     },
     "execution_count": 12,
     "metadata": {},
     "output_type": "execute_result"
    }
   ],
   "source": [
    "## identity array/diagonal matrix\n",
    "np.eye(5)"
   ]
  },
  {
   "cell_type": "code",
   "execution_count": 13,
   "metadata": {},
   "outputs": [
    {
     "name": "stdout",
     "output_type": "stream",
     "text": [
      "Array:  [[1 2 3]\n",
      " [4 5 6]\n",
      " [7 8 9]]\n",
      "Array shape:  (3, 3)\n",
      "Array size:  9\n",
      "Array dimension:  2\n",
      "Array data type:  int64\n",
      "Item size:  8\n"
     ]
    }
   ],
   "source": [
    "# Array attributes\n",
    "arr = np.array([[1,2,3],[4,5,6],[7,8,9]])\n",
    "print(\"Array: \",arr)\n",
    "print(\"Array shape: \",arr.shape)\n",
    "print(\"Array size: \",arr.size)\n",
    "print(\"Array dimension: \",arr.ndim)\n",
    "print(\"Array data type: \",arr.dtype)\n",
    "print(\"Item size: \",arr.itemsize)"
   ]
  },
  {
   "cell_type": "code",
   "execution_count": 14,
   "metadata": {},
   "outputs": [
    {
     "name": "stdout",
     "output_type": "stream",
     "text": [
      "Addition:  [11 22 33 44 55]\n",
      "Subtraction:  [ -9 -18 -27 -36 -45]\n",
      "Multiplication:  [ 10  40  90 160 250]\n",
      "Division:  [0.1 0.1 0.1 0.1 0.1]\n",
      "Power:  [                   1              1048576      205891132094649\n",
      "                    0 -6776596920136667815]\n"
     ]
    }
   ],
   "source": [
    "## Vectorized operations\n",
    "\n",
    "arr1 = np.array([1,2,3,4,5])\n",
    "arr2 = np.array([10,20,30,40,50])\n",
    "\n",
    "## Element wise addition\n",
    "print(\"Addition: \",arr1+arr2)\n",
    "\n",
    "## Element wise subtraction\n",
    "print(\"Subtraction: \",arr1-arr2)\n",
    "\n",
    "## Element wise multiplication\n",
    "print(\"Multiplication: \",arr1*arr2)     \n",
    "\n",
    "## Element wise division\n",
    "print(\"Division: \",arr1/arr2)\n",
    "\n",
    "## Element wise power\n",
    "print(\"Power: \",arr1**arr2)\n"
   ]
  },
  {
   "cell_type": "code",
   "execution_count": 15,
   "metadata": {},
   "outputs": [
    {
     "name": "stdout",
     "output_type": "stream",
     "text": [
      "Square root: [1.41421356 1.73205081 2.         2.23606798 2.44948974]\n",
      "Exponential:  [  7.3890561   20.08553692  54.59815003 148.4131591  403.42879349]\n",
      "Sine:  [ 0.90929743  0.14112001 -0.7568025  -0.95892427 -0.2794155 ]\n",
      "Natural logarithm:  [0.69314718 1.09861229 1.38629436 1.60943791 1.79175947]\n"
     ]
    }
   ],
   "source": [
    "## Universal functions\n",
    "\n",
    "arr = np.array([2,3,4,5,6])\n",
    "\n",
    "## Square root\n",
    "print(\"Square root:\",np.sqrt(arr))\n",
    "\n",
    "## Exponential\n",
    "print(\"Exponential: \",np.exp(arr))\n",
    "\n",
    "## Sine\n",
    "print(\"Sine: \",np.sin(arr))\n",
    "\n",
    "## natural logarithm\n",
    "print(\"Natural logarithm: \",np.log(arr))"
   ]
  },
  {
   "cell_type": "code",
   "execution_count": 19,
   "metadata": {},
   "outputs": [
    {
     "name": "stdout",
     "output_type": "stream",
     "text": [
      "(3, 4)\n",
      "First Row: [1 2 3 4]\n",
      "Second Row: [5 6 7 8]\n",
      "Third Row: [ 9 10 11 12]\n",
      "11\n",
      "11\n",
      "[[ 7  8]\n",
      " [11 12]]\n",
      "[[3 4]\n",
      " [7 8]]\n",
      "---------------\n",
      "[[ 6  7]\n",
      " [10 11]]\n"
     ]
    }
   ],
   "source": [
    "## Slicing operations/ indexing\n",
    "\n",
    "arr = np.array([[1,2,3,4],[5,6,7,8],[9,10,11,12]])\n",
    "\n",
    "print(arr.shape)\n",
    "print(\"First Row:\", arr[0])\n",
    "print(\"Second Row:\", arr[1])\n",
    "print(\"Third Row:\", arr[2])\n",
    "\n",
    "#find 11\n",
    "\n",
    "print(arr[2,2])\n",
    "print(arr[2][2])\n",
    "\n",
    "\n",
    "#find 7,8,11,12\n",
    "\n",
    "print(arr[1:,2:])\n",
    "\n",
    "#find 3,4,7,8\n",
    "\n",
    "print(arr[0:2,2:])\n",
    "\n",
    "#find 6 7 10 11\n",
    "print(\"---------------\")\n",
    "print(arr[1:3,1:3])"
   ]
  },
  {
   "cell_type": "code",
   "execution_count": 20,
   "metadata": {},
   "outputs": [
    {
     "name": "stdout",
     "output_type": "stream",
     "text": [
      "[[100   2   3   4]\n",
      " [  5   6   7   8]\n",
      " [  9  10  11  12]]\n"
     ]
    }
   ],
   "source": [
    "##Modify array elements\n",
    "\n",
    "arr[0,0] = 100\n",
    "print(arr)"
   ]
  },
  {
   "cell_type": "code",
   "execution_count": 25,
   "metadata": {},
   "outputs": [
    {
     "data": {
      "text/plain": [
       "array([[100,   2,   3,   4],\n",
       "       [100, 100, 100, 100],\n",
       "       [100, 100, 100, 100]])"
      ]
     },
     "execution_count": 25,
     "metadata": {},
     "output_type": "execute_result"
    }
   ],
   "source": [
    "arr[1:] = 100\n",
    "arr"
   ]
  },
  {
   "cell_type": "code",
   "execution_count": 26,
   "metadata": {},
   "outputs": [
    {
     "name": "stdout",
     "output_type": "stream",
     "text": [
      "Mean:  3.0\n",
      "Standard Deviation:  1.4142135623730951\n",
      "Normalized data:  [-1.41421356 -0.70710678  0.          0.70710678  1.41421356]\n"
     ]
    }
   ],
   "source": [
    "## statistical concept -- Normalization\n",
    "## to have a mean of 0 and standard deviation of 1\n",
    "\n",
    "data = np.array([1,2,3,4,5])\n",
    "mean = np.mean(data)\n",
    "print(\"Mean: \",mean)\n",
    "std = np.std(data)\n",
    "print(\"Standard Deviation: \",std)\n",
    "\n",
    "normalized_data = (data-mean)/std\n",
    "\n",
    "print(\"Normalized data: \",normalized_data)"
   ]
  },
  {
   "cell_type": "code",
   "execution_count": 28,
   "metadata": {},
   "outputs": [
    {
     "name": "stdout",
     "output_type": "stream",
     "text": [
      "Mean:  3.0\n",
      "Median:  3.0\n",
      "Standard Deviation:  1.4142135623730951\n",
      "Variance:  2.0\n"
     ]
    }
   ],
   "source": [
    "#Mean \n",
    "mean = np.mean(data)\n",
    "\n",
    "#median\n",
    "median = np.median(data)\n",
    "\n",
    "#Standard Deviation\n",
    "std = np.std(data)\n",
    "\n",
    "#variance\n",
    "var = np.var(data)  \n",
    "\n",
    "print(\"Mean: \",mean)\n",
    "print(\"Median: \",median)\n",
    "print(\"Standard Deviation: \",std)\n",
    "print(\"Variance: \",var)"
   ]
  },
  {
   "cell_type": "code",
   "execution_count": 36,
   "metadata": {},
   "outputs": [
    {
     "name": "stdout",
     "output_type": "stream",
     "text": [
      "[False False False False False  True  True  True  True  True]\n",
      "[6 7]\n",
      "[ 1  2  3  4  5  6  7  8  9 10]\n"
     ]
    }
   ],
   "source": [
    "## Logical operations\n",
    "\n",
    "data =np.array([1,2,3,4,5,6,7,8,9,10])\n",
    "\n",
    "#greater than 5\n",
    "print(data>5)\n",
    "\n",
    "# to get the values greater than 5\n",
    "data[data>5]\n",
    "\n",
    "# Get data > 5 and <8\n",
    "# and(&) or(|)\n",
    "print(data[(data>5) & (data<8)])\n",
    "print(data[(data>5) | (data<8)])"
   ]
  },
  {
   "cell_type": "code",
   "execution_count": null,
   "metadata": {},
   "outputs": [],
   "source": []
  }
 ],
 "metadata": {
  "kernelspec": {
   "display_name": "MLDLTut",
   "language": "python",
   "name": "python3"
  },
  "language_info": {
   "codemirror_mode": {
    "name": "ipython",
    "version": 3
   },
   "file_extension": ".py",
   "mimetype": "text/x-python",
   "name": "python",
   "nbconvert_exporter": "python",
   "pygments_lexer": "ipython3",
   "version": "3.10.0"
  }
 },
 "nbformat": 4,
 "nbformat_minor": 2
}
